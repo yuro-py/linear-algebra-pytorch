{
  "nbformat": 4,
  "nbformat_minor": 0,
  "metadata": {
    "colab": {
      "provenance": [],
      "include_colab_link": true
    },
    "kernelspec": {
      "name": "python3",
      "display_name": "Python 3"
    },
    "language_info": {
      "name": "python"
    }
  },
  "cells": [
    {
      "cell_type": "markdown",
      "metadata": {
        "id": "view-in-github",
        "colab_type": "text"
      },
      "source": [
        "<a href=\"https://colab.research.google.com/github/yuro-py/linear-algebra-pytorch/blob/main/video1.ipynb\" target=\"_parent\"><img src=\"https://colab.research.google.com/assets/colab-badge.svg\" alt=\"Open In Colab\"/></a>"
      ]
    },
    {
      "cell_type": "markdown",
      "source": [
        "**`Linear Algebra implementation in PyTorch`**"
      ],
      "metadata": {
        "id": "VEQxiwy2HxRs"
      }
    },
    {
      "cell_type": "code",
      "source": [
        "from torch import tensor, matmul\n",
        "\n",
        "#importing \"tensor\" for initializing a matrix in a variable.\n",
        "#importing \"matmul\" for performing multiplication through one of the methods."
      ],
      "metadata": {
        "id": "xbOxibGaICRc"
      },
      "execution_count": 1,
      "outputs": []
    },
    {
      "cell_type": "code",
      "source": [
        "a = tensor([[1,2],[3,4]])\n",
        "b = tensor([[5,6],[7,8]])\n",
        "\n",
        "# initialized the two matrices using \"tensor\" and translating the general\n",
        "# notation of writing a matrix of linear algebra into a computational manner."
      ],
      "metadata": {
        "id": "X3lzJVTlZXUa"
      },
      "execution_count": 2,
      "outputs": []
    },
    {
      "cell_type": "code",
      "source": [
        "#first way of matrix multiplication\n",
        "\n",
        "print(a @ b)\n",
        "\n",
        "#prefer using this method most of the time for matrix multiplication"
      ],
      "metadata": {
        "id": "BFByeVWfZh1b",
        "outputId": "323aef8f-13ce-4eb1-d1dc-dafb56050273",
        "colab": {
          "base_uri": "https://localhost:8080/"
        }
      },
      "execution_count": 4,
      "outputs": [
        {
          "output_type": "stream",
          "name": "stdout",
          "text": [
            "tensor([[19, 22],\n",
            "        [43, 50]])\n"
          ]
        }
      ]
    }
  ]
}